{
 "cells": [
  {
   "cell_type": "code",
   "execution_count": null,
   "id": "402379c7-1fa8-42cb-adc5-90d8e7d706c3",
   "metadata": {},
   "outputs": [
    {
     "ename": "",
     "evalue": "",
     "output_type": "error",
     "traceback": [
      "\u001b[1;31mRunning cells with '.venv (Python 3.11.7)' requires the ipykernel package.\n",
      "\u001b[1;31mRun the following command to install 'ipykernel' into the Python environment. \n",
      "\u001b[1;31mCommand: '/Users/yksoni/code/MonkAI/InformationIntelligence/.venv/bin/python -m pip install ipykernel -U --force-reinstall'"
     ]
    }
   ],
   "source": [
    "# !pip list | grep fastapi"
   ]
  },
  {
   "cell_type": "code",
   "execution_count": null,
   "id": "c2ea7eea-6539-4a55-8f20-5b4fc41ee29a",
   "metadata": {},
   "outputs": [
    {
     "ename": "",
     "evalue": "",
     "output_type": "error",
     "traceback": [
      "\u001b[1;31mRunning cells with '.venv (Python 3.11.7)' requires the ipykernel package.\n",
      "\u001b[1;31mRun the following command to install 'ipykernel' into the Python environment. \n",
      "\u001b[1;31mCommand: '/Users/yksoni/code/MonkAI/InformationIntelligence/.venv/bin/python -m pip install ipykernel -U --force-reinstall'"
     ]
    }
   ],
   "source": [
    "import json\n",
    "import pandas as pd\n",
    "from uuid import uuid4\n",
    "from pprint import pprint\n",
    "from pymongo import MongoClient\n",
    "from argparse import ArgumentParser\n",
    "from config import settings\n",
    "collection_name = 'topic_clustering_output'\n",
    "\n",
    "connection_string = settings.MONGO_CONNECTION_STRING\n",
    "client = MongoClient(connection_string)\n",
    "print(\"Connected to MongoDB successfully!\")"
   ]
  },
  {
   "cell_type": "code",
   "execution_count": null,
   "id": "22dede31-8903-4a4f-9083-31e804117ed8",
   "metadata": {},
   "outputs": [
    {
     "ename": "",
     "evalue": "",
     "output_type": "error",
     "traceback": [
      "\u001b[1;31mRunning cells with '.venv (Python 3.11.7)' requires the ipykernel package.\n",
      "\u001b[1;31mRun the following command to install 'ipykernel' into the Python environment. \n",
      "\u001b[1;31mCommand: '/Users/yksoni/code/MonkAI/InformationIntelligence/.venv/bin/python -m pip install ipykernel -U --force-reinstall'"
     ]
    }
   ],
   "source": [
    "db = client.archive\n",
    "docs = db[collection_name].find().sort({'created_at': -1})"
   ]
  },
  {
   "cell_type": "code",
   "execution_count": null,
   "id": "353ec5f1-de6e-4647-8a76-69c2d14b924e",
   "metadata": {},
   "outputs": [
    {
     "ename": "",
     "evalue": "",
     "output_type": "error",
     "traceback": [
      "\u001b[1;31mRunning cells with '.venv (Python 3.11.7)' requires the ipykernel package.\n",
      "\u001b[1;31mRun the following command to install 'ipykernel' into the Python environment. \n",
      "\u001b[1;31mCommand: '/Users/yksoni/code/MonkAI/InformationIntelligence/.venv/bin/python -m pip install ipykernel -U --force-reinstall'"
     ]
    }
   ],
   "source": [
    "df = pd.DataFrame(list(docs)[::-1])\n",
    "df"
   ]
  },
  {
   "cell_type": "code",
   "execution_count": null,
   "id": "016f675d-dcbb-4dec-9e01-89a6c41bbb12",
   "metadata": {},
   "outputs": [
    {
     "ename": "",
     "evalue": "",
     "output_type": "error",
     "traceback": [
      "\u001b[1;31mRunning cells with '.venv (Python 3.11.7)' requires the ipykernel package.\n",
      "\u001b[1;31mRun the following command to install 'ipykernel' into the Python environment. \n",
      "\u001b[1;31mCommand: '/Users/yksoni/code/MonkAI/InformationIntelligence/.venv/bin/python -m pip install ipykernel -U --force-reinstall'"
     ]
    }
   ],
   "source": [
    "pprint(list(df.groupby(['topic']).groups.keys()))"
   ]
  },
  {
   "cell_type": "code",
   "execution_count": null,
   "id": "d613d520-61ed-41f3-8f4e-2830f0623ce1",
   "metadata": {},
   "outputs": [
    {
     "ename": "",
     "evalue": "",
     "output_type": "error",
     "traceback": [
      "\u001b[1;31mRunning cells with '.venv (Python 3.11.7)' requires the ipykernel package.\n",
      "\u001b[1;31mRun the following command to install 'ipykernel' into the Python environment. \n",
      "\u001b[1;31mCommand: '/Users/yksoni/code/MonkAI/InformationIntelligence/.venv/bin/python -m pip install ipykernel -U --force-reinstall'"
     ]
    }
   ],
   "source": [
    "topic_to_id = {topic: str(uuid4())[:10] for topic in df['topic'].unique()}\n",
    "\n",
    "# Map the topic IDs to the DataFrame\n",
    "df['main_thread_id'] = df['topic'].map(topic_to_id)\n",
    "df"
   ]
  }
 ],
 "metadata": {
  "kernelspec": {
   "display_name": "Python 3 (ipykernel)",
   "language": "python",
   "name": "python3"
  },
  "language_info": {
   "codemirror_mode": {
    "name": "ipython",
    "version": 3
   },
   "file_extension": ".py",
   "mimetype": "text/x-python",
   "name": "python",
   "nbconvert_exporter": "python",
   "pygments_lexer": "ipython3",
   "version": "3.11.7"
  },
  "widgets": {
   "application/vnd.jupyter.widget-state+json": {
    "state": {},
    "version_major": 2,
    "version_minor": 0
   }
  }
 },
 "nbformat": 4,
 "nbformat_minor": 5
}
