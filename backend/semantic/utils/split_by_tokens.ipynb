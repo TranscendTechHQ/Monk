{
 "cells": [
  {
   "cell_type": "code",
   "execution_count": 1,
   "id": "6b1a141c-ed2f-4c1f-ae1a-b16fe5a73147",
   "metadata": {},
   "outputs": [
    {
     "name": "stdout",
     "output_type": "stream",
     "text": [
      "Connected to MongoDB successfully!\n"
     ]
    }
   ],
   "source": [
    "import json\n",
    "import pandas as pd\n",
    "from uuid import uuid4\n",
    "from pprint import pprint\n",
    "from pymongo import MongoClient, DESCENDING\n",
    "from transformers import AutoTokenizer\n",
    "from langchain_text_splitters import CharacterTextSplitter\n",
    "from config import settings\n",
    "tokenizer = AutoTokenizer.from_pretrained(\"mistralai/Mistral-7B-Instruct-v0.2\")\n",
    "\n",
    "collection_name = 'blocks'\n",
    "\n",
    "connection_string = settings.MONGO_CONNECTION_STRING\n",
    "client = MongoClient(connection_string)\n",
    "print(\"Connected to MongoDB successfully!\")"
   ]
  },
  {
   "cell_type": "markdown",
   "id": "da6da3ef-0b94-4916-a313-1b38c8fee76d",
   "metadata": {},
   "source": [
    "## Original data"
   ]
  },
  {
   "cell_type": "code",
   "execution_count": 2,
   "id": "646c184c-007a-4ba1-9742-eb7cd859da58",
   "metadata": {},
   "outputs": [],
   "source": [
    "db = client.archive\n",
    "docs = db[collection_name].find().sort({'created_at': -1})"
   ]
  },
  {
   "cell_type": "code",
   "execution_count": 3,
   "id": "de56025b-4605-4824-b704-4c9c5b02eb3e",
   "metadata": {},
   "outputs": [
    {
     "data": {
      "text/html": [
       "<div>\n",
       "<style scoped>\n",
       "    .dataframe tbody tr th:only-of-type {\n",
       "        vertical-align: middle;\n",
       "    }\n",
       "\n",
       "    .dataframe tbody tr th {\n",
       "        vertical-align: top;\n",
       "    }\n",
       "\n",
       "    .dataframe thead th {\n",
       "        text-align: right;\n",
       "    }\n",
       "</style>\n",
       "<table border=\"1\" class=\"dataframe\">\n",
       "  <thead>\n",
       "    <tr style=\"text-align: right;\">\n",
       "      <th></th>\n",
       "      <th>_id</th>\n",
       "      <th>content</th>\n",
       "      <th>created_at</th>\n",
       "      <th>creator</th>\n",
       "      <th>topic</th>\n",
       "      <th>main_thread_id</th>\n",
       "    </tr>\n",
       "  </thead>\n",
       "  <tbody>\n",
       "    <tr>\n",
       "      <th>0</th>\n",
       "      <td>c3b41f3c-692d-4a27-9d98-04b1fa0919d0</td>\n",
       "      <td>Hi &lt;@U066Q9JAU3B&gt;\\nNice to see you at our proj...</td>\n",
       "      <td>2024-04-11T07:49:45.714149</td>\n",
       "      <td>UU43NJY8K</td>\n",
       "      <td>Project Kickoff and Preparation</td>\n",
       "      <td>acc7439c-b</td>\n",
       "    </tr>\n",
       "    <tr>\n",
       "      <th>1</th>\n",
       "      <td>bfa16fbb-2201-4863-abfa-6cc9ec25ce33</td>\n",
       "      <td>Hi &lt;@UU43NJY8K&gt;,\\nThanks for inviting us.</td>\n",
       "      <td>2024-04-11T08:22:09.374109</td>\n",
       "      <td>U066Q9JAU3B</td>\n",
       "      <td>Project Kickoff and Preparation</td>\n",
       "      <td>acc7439c-b</td>\n",
       "    </tr>\n",
       "    <tr>\n",
       "      <th>2</th>\n",
       "      <td>21e66f4a-fbfc-4bc7-91d6-cc54ec427d57</td>\n",
       "      <td>Hi &lt;@U066Q9JAU3B&gt; &lt;@U06855K24SE&gt;\\nDon't you mi...</td>\n",
       "      <td>2024-04-11T08:59:32.370529</td>\n",
       "      <td>UU43NJY8K</td>\n",
       "      <td>Project Kickoff and Preparation</td>\n",
       "      <td>acc7439c-b</td>\n",
       "    </tr>\n",
       "    <tr>\n",
       "      <th>3</th>\n",
       "      <td>effa84d1-cb39-4ea5-937d-95ea328afe5c</td>\n",
       "      <td>Works for me.</td>\n",
       "      <td>2024-04-11T09:02:28.000959</td>\n",
       "      <td>U066Q9JAU3B</td>\n",
       "      <td>Project Kickoff and Preparation</td>\n",
       "      <td>acc7439c-b</td>\n",
       "    </tr>\n",
       "    <tr>\n",
       "      <th>4</th>\n",
       "      <td>7e92acd1-4103-49d0-97db-1e4ebd891e69</td>\n",
       "      <td>Hi Yogesh,\\nPlease do not hesitate to share al...</td>\n",
       "      <td>2024-04-12T08:04:20.532329</td>\n",
       "      <td>UU43NJY8K</td>\n",
       "      <td>Project Kickoff and Preparation</td>\n",
       "      <td>acc7439c-b</td>\n",
       "    </tr>\n",
       "    <tr>\n",
       "      <th>...</th>\n",
       "      <td>...</td>\n",
       "      <td>...</td>\n",
       "      <td>...</td>\n",
       "      <td>...</td>\n",
       "      <td>...</td>\n",
       "      <td>...</td>\n",
       "    </tr>\n",
       "    <tr>\n",
       "      <th>245</th>\n",
       "      <td>2348069f-592d-4de9-94ee-136cee9b9907</td>\n",
       "      <td>No, currently there is no overlap (I need to a...</td>\n",
       "      <td>2024-05-16T07:33:00.645309</td>\n",
       "      <td>U05R0KHPU8N</td>\n",
       "      <td>Going back and forth on the best approach for ...</td>\n",
       "      <td>0a76a334-c</td>\n",
       "    </tr>\n",
       "    <tr>\n",
       "      <th>246</th>\n",
       "      <td>6363572d-f176-4851-8592-d46b29c4f6ae</td>\n",
       "      <td>without an overlapping window, we have no way ...</td>\n",
       "      <td>2024-05-16T11:24:58.207359</td>\n",
       "      <td>U066Q9JAU3B</td>\n",
       "      <td>Going back and forth on the best approach for ...</td>\n",
       "      <td>0a76a334-c</td>\n",
       "    </tr>\n",
       "    <tr>\n",
       "      <th>247</th>\n",
       "      <td>da42b289-45b7-4e06-88e6-7b469a362188</td>\n",
       "      <td>&lt;@U066Q9JAU3B&gt; Indeed, my recent experiments s...</td>\n",
       "      <td>2024-05-16T11:27:03.332109</td>\n",
       "      <td>U05R0KHPU8N</td>\n",
       "      <td>Going back and forth on the best approach for ...</td>\n",
       "      <td>0a76a334-c</td>\n",
       "    </tr>\n",
       "    <tr>\n",
       "      <th>248</th>\n",
       "      <td>ce942fb1-0179-4655-8d38-f9f41475af6d</td>\n",
       "      <td>with the overlap, we can even increase the bat...</td>\n",
       "      <td>2024-05-16T11:30:49.711009</td>\n",
       "      <td>U066Q9JAU3B</td>\n",
       "      <td>Going back and forth on the best approach for ...</td>\n",
       "      <td>0a76a334-c</td>\n",
       "    </tr>\n",
       "    <tr>\n",
       "      <th>249</th>\n",
       "      <td>06f8c352-e986-4934-ab68-5a18ce6b5289</td>\n",
       "      <td>Ok, I'll start with that tomorrow.\\nI am of fo...</td>\n",
       "      <td>2024-05-16T12:26:44.536339</td>\n",
       "      <td>U05R0KHPU8N</td>\n",
       "      <td>Discussion on models and server options</td>\n",
       "      <td>3fcfc0ff-7</td>\n",
       "    </tr>\n",
       "  </tbody>\n",
       "</table>\n",
       "<p>250 rows × 6 columns</p>\n",
       "</div>"
      ],
      "text/plain": [
       "                                      _id  \\\n",
       "0    c3b41f3c-692d-4a27-9d98-04b1fa0919d0   \n",
       "1    bfa16fbb-2201-4863-abfa-6cc9ec25ce33   \n",
       "2    21e66f4a-fbfc-4bc7-91d6-cc54ec427d57   \n",
       "3    effa84d1-cb39-4ea5-937d-95ea328afe5c   \n",
       "4    7e92acd1-4103-49d0-97db-1e4ebd891e69   \n",
       "..                                    ...   \n",
       "245  2348069f-592d-4de9-94ee-136cee9b9907   \n",
       "246  6363572d-f176-4851-8592-d46b29c4f6ae   \n",
       "247  da42b289-45b7-4e06-88e6-7b469a362188   \n",
       "248  ce942fb1-0179-4655-8d38-f9f41475af6d   \n",
       "249  06f8c352-e986-4934-ab68-5a18ce6b5289   \n",
       "\n",
       "                                               content  \\\n",
       "0    Hi <@U066Q9JAU3B>\\nNice to see you at our proj...   \n",
       "1            Hi <@UU43NJY8K>,\\nThanks for inviting us.   \n",
       "2    Hi <@U066Q9JAU3B> <@U06855K24SE>\\nDon't you mi...   \n",
       "3                                        Works for me.   \n",
       "4    Hi Yogesh,\\nPlease do not hesitate to share al...   \n",
       "..                                                 ...   \n",
       "245  No, currently there is no overlap (I need to a...   \n",
       "246  without an overlapping window, we have no way ...   \n",
       "247  <@U066Q9JAU3B> Indeed, my recent experiments s...   \n",
       "248  with the overlap, we can even increase the bat...   \n",
       "249  Ok, I'll start with that tomorrow.\\nI am of fo...   \n",
       "\n",
       "                     created_at      creator  \\\n",
       "0    2024-04-11T07:49:45.714149    UU43NJY8K   \n",
       "1    2024-04-11T08:22:09.374109  U066Q9JAU3B   \n",
       "2    2024-04-11T08:59:32.370529    UU43NJY8K   \n",
       "3    2024-04-11T09:02:28.000959  U066Q9JAU3B   \n",
       "4    2024-04-12T08:04:20.532329    UU43NJY8K   \n",
       "..                          ...          ...   \n",
       "245  2024-05-16T07:33:00.645309  U05R0KHPU8N   \n",
       "246  2024-05-16T11:24:58.207359  U066Q9JAU3B   \n",
       "247  2024-05-16T11:27:03.332109  U05R0KHPU8N   \n",
       "248  2024-05-16T11:30:49.711009  U066Q9JAU3B   \n",
       "249  2024-05-16T12:26:44.536339  U05R0KHPU8N   \n",
       "\n",
       "                                                 topic    main_thread_id  \n",
       "0                      Project Kickoff and Preparation  acc7439c-b  \n",
       "1                      Project Kickoff and Preparation  acc7439c-b  \n",
       "2                      Project Kickoff and Preparation  acc7439c-b  \n",
       "3                      Project Kickoff and Preparation  acc7439c-b  \n",
       "4                      Project Kickoff and Preparation  acc7439c-b  \n",
       "..                                                 ...         ...  \n",
       "245  Going back and forth on the best approach for ...  0a76a334-c  \n",
       "246  Going back and forth on the best approach for ...  0a76a334-c  \n",
       "247  Going back and forth on the best approach for ...  0a76a334-c  \n",
       "248  Going back and forth on the best approach for ...  0a76a334-c  \n",
       "249            Discussion on models and server options  3fcfc0ff-7  \n",
       "\n",
       "[250 rows x 6 columns]"
      ]
     },
     "execution_count": 3,
     "metadata": {},
     "output_type": "execute_result"
    }
   ],
   "source": [
    "df = pd.DataFrame(list(docs)[::-1])\n",
    "df"
   ]
  },
  {
   "cell_type": "markdown",
   "id": "5698cf28-3318-4902-add3-d325a83c59e2",
   "metadata": {},
   "source": [
    "## Group by topics,"
   ]
  },
  {
   "cell_type": "code",
   "execution_count": 4,
   "id": "c1bdd63f-2386-4131-b5db-9c3857b5e89c",
   "metadata": {},
   "outputs": [],
   "source": [
    "grouped_df = df.groupby(['topic', 'main_thread_id'])['creator'].count().reset_index(name='nmessages_in_topic').sort_values(['nmessages_in_topic'],ascending=False)\n",
    "\n",
    "\n",
    "stage_grouping = {'$group': {\n",
    "    '_id': '$main_thread_id',\n",
    "    'topic': {'$addToSet': '$topic'},\n",
    "    'topic_messages': {'$push': '$content'},\n",
    "}}\n",
    "\n",
    "stage_sorting = {\n",
    "    \"$sort\": { \"main_thread_id\": DESCENDING}\n",
    "}\n",
    "\n",
    "pipeline = [\n",
    "    # stage_matching_ids,\n",
    "    stage_sorting,\n",
    "    # stage_projecting\n",
    "    stage_grouping,\n",
    "]\n",
    "\n",
    "result = list(db[collection_name].aggregate(pipeline))\n",
    "# result = db[collection_name].aggregate(pipeline)"
   ]
  },
  {
   "cell_type": "code",
   "execution_count": 28,
   "id": "3d99e744-ecff-4433-ad40-926ebaded238",
   "metadata": {},
   "outputs": [],
   "source": [
    "topics = []\n",
    "for topic_json in result:\n",
    "    messages = '\\n- '.join((message[:380].replace('/n', ' ') for message in topic_json['topic_messages']))\n",
    "    topic = f'Topic: {topic_json[\"topic\"][0]}\\n\\n- {messages}'\n",
    "    topics.append(topic)\n",
    "\n",
    "topic_messages = '\\n\\n\\n'.join(topics)\n",
    "# topic_messages = '~`~`~`~`'.join(topics)"
   ]
  },
  {
   "cell_type": "code",
   "execution_count": 29,
   "id": "06e69e1f-0307-4734-b3c8-ecc2143a9c7a",
   "metadata": {},
   "outputs": [
    {
     "data": {
      "text/plain": [
       "[1873, 1870, 1769, 1383, 1656, 1793, 1764, 1491, 1108]"
      ]
     },
     "execution_count": 29,
     "metadata": {},
     "output_type": "execute_result"
    }
   ],
   "source": [
    "text_splitter = CharacterTextSplitter.from_huggingface_tokenizer(\n",
    "    tokenizer, chunk_size=1900, chunk_overlap=0, separator='\\n\\n\\n'\n",
    "    # tokenizer, chunk_size=1900, chunk_overlap=0, separator='~`~`~`~`'\n",
    ")\n",
    "texts = text_splitter.split_text(topic_messages)\n",
    "list(map(len, list(map(tokenizer.encode, texts))))"
   ]
  },
  {
   "cell_type": "markdown",
   "id": "ad700934-9830-4990-ad33-b506790c35e0",
   "metadata": {},
   "source": [
    "## Ensure all chunks begin with topic"
   ]
  },
  {
   "cell_type": "code",
   "execution_count": 30,
   "id": "c0cccce3-526d-497f-aae8-10caf64d64b0",
   "metadata": {},
   "outputs": [
    {
     "name": "stdout",
     "output_type": "stream",
     "text": [
      "Topic: Go programming and hybrid search\n",
      "Topic: Discussion on models and server options\n",
      "Topic: Greetings and well wishes\n",
      "Topic: None\n",
      "Topic: Project Update  REST API and development progress\n",
      "Topic: MongoDB integration and server api\n",
      "Topic: Project Kickoff and Preparation\n",
      "Topic: Meeting preparation and clustering project\n",
      "Topic: Discussion about Googles Meet link and code sharing\n"
     ]
    }
   ],
   "source": [
    "for text in texts:\n",
    "    print(text.split('\\n')[0])"
   ]
  }
 ],
 "metadata": {
  "kernelspec": {
   "display_name": "Python 3 (ipykernel)",
   "language": "python",
   "name": "python3"
  },
  "language_info": {
   "codemirror_mode": {
    "name": "ipython",
    "version": 3
   },
   "file_extension": ".py",
   "mimetype": "text/x-python",
   "name": "python",
   "nbconvert_exporter": "python",
   "pygments_lexer": "ipython3",
   "version": "3.11.6"
  },
  "widgets": {
   "application/vnd.jupyter.widget-state+json": {
    "state": {},
    "version_major": 2,
    "version_minor": 0
   }
  }
 },
 "nbformat": 4,
 "nbformat_minor": 5
}
